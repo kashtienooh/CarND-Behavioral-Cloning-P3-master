{
 "cells": [
  {
   "cell_type": "markdown",
   "metadata": {},
   "source": [
    "# Behavioral Cloning"
   ]
  },
  {
   "cell_type": "markdown",
   "metadata": {},
   "source": [
    "### Behavioral Cloning Project\n",
    "\n",
    "The goals / steps of this project are the following:\n",
    "\n",
    "*    Use the simulator to collect data of good driving behavior\n",
    "*    Build, a convolution neural network in Keras that predicts steering angles from images\n",
    "*    Train and validate the model with a training and validation set\n",
    "*    Test that the model successfully drives around track one without leaving the road\n",
    "*    Summarize the results with a written report"
   ]
  },
  {
   "cell_type": "markdown",
   "metadata": {},
   "source": [
    "### Files Submitted & Code Quality\n",
    "#### 1. Submission includes all required files and can be used to run the simulator in autonomous mode\n",
    "\n",
    "#### My project includes the following files:\n",
    "\n",
    "* `3_Asigment.ipynb` containing the script to create and train the model\n",
    "* `drive.py` for driving the car in autonomous mode\n",
    "* `model_2_.h5` containing a trained convolution neural network \n",
    "* `writeup_report.md` summarizing the results\n",
    "* `video.mp4` a sample video of the given track with autonomous drive"
   ]
  },
  {
   "cell_type": "markdown",
   "metadata": {},
   "source": [
    "#### 2. Submission includes functional code\n",
    "\n",
    "Using the Udacity provided simulator and my drive.py file, the car can be driven autonomously around the track by executing\n",
    "\n",
    "* `python drive.py model_2_.h5`"
   ]
  },
  {
   "cell_type": "markdown",
   "metadata": {},
   "source": [
    "#### 3. Model parameter tuning\n",
    "\n",
    "For the parameter tunning the model uses the AdamOptimizer."
   ]
  },
  {
   "cell_type": "markdown",
   "metadata": {},
   "source": [
    "#### 4. Appropriate training data\n",
    "\n",
    "To create the training data I used the training data given by Udacity. I also tried to drive the track one with good behavior one time forward and once backward. The same procedure was done on the track 2."
   ]
  },
  {
   "cell_type": "markdown",
   "metadata": {},
   "source": [
    "#### 1. Solution Design Approach\n",
    "\n",
    "The overall strategy for deriving a model architecture was to ...\n",
    "\n",
    "My strategy was to use my own data set. At first I collect my data set with the help of the udacity simulator. I ran each track twice in one way and twice in opposite way. The usage of flip technik was not realy helpfull for me.\n",
    "\n",
    "I use a convolution neural network model similar from the [Nvidia Paper](https://images.nvidia.com/content/tegra/automotive/images/2016/solutions/pdf/end-to-end-dl-using-px.pdf).\n",
    "\n",
    "In order to gauge how well the model was working, I split my image and steering angle data into a training and validation set. I also crop my image to reduce amount of data feeding into RAM.\n",
    "\n",
    "\n",
    "The final step was to run the simulator to see how well the car was driving around track one. There was one spot where the vehicle fell off the track at the second track I think I should play around with corresction factors. Another way can be so use udacity data set and just add my trimed data set in to it.\n",
    "\n",
    "At the end of the process, the vehicle is able to drive autonomously around the first track without leaving the road."
   ]
  },
  {
   "cell_type": "markdown",
   "metadata": {},
   "source": [
    "#### 2. Nvidia Model Architecture\n",
    "\n",
    "Here is a visualization of the architecture which based on this paper [Nvidia Paper](https://images.nvidia.com/content/tegra/automotive/images/2016/solutions/pdf/end-to-end-dl-using-px.pdf).\n",
    "I crop my images by 50 upper side and 20 from down side of each image. I also use batch normalization between the layers to keep the mean activation near zero. To avoid overfitting I use drop outs flatted fully connected layers. The model used an adam optimizer, so the learning rate was not tuned manually. I used “exponential linear unit” (ELU) which speeds up learning indeep neural networks and leads to higher classification accuracies\n",
    "\n",
    "\n",
    "\n",
    "\n",
    "|Layer (type)                 | Output Shape             | Param #  |\n",
    "|-----------------------------|--------------------------|----------|\n",
    "|cropping2d_1 (Cropping2D)    |(None, 90, 320, 3)        |0         |        \n",
    "|lambda_1 (Lambda)            |(None, 90, 320, 3)        |0         |\n",
    "|batch_normalization_1 (Batch |(None, 90, 320, 3)        |12        |\n",
    "|conv2d_1 (Conv2D)            |(None, 43, 158, 24)       |1824      |\n",
    "|conv2d_2 (Conv2D)            |(None, 20, 77, 36)        |21636     |\n",
    "|conv2d_3 (Conv2D)            |(None, 8, 37, 48)         |43248     |\n",
    "|batch_normalization_2 (Batch |(None, 8, 37, 48)         |192       |\n",
    "|conv2d_4 (Conv2D)            |(None, 6, 35, 64)         |27712     |\n",
    "|conv2d_5 (Conv2D)            |(None, 4, 33, 64)         |36928     |\n",
    "|dropout_1 (Dropout)          |(None, 4, 33, 64)         |0         |\n",
    "|flatten_1 (Flatten)          |(None, 8448)              |0         |\n",
    "|dense_1 (Dense)              |(None, 100)               |844900    |\n",
    "|batch_normalization_3 (Batch |(None, 100)               |400       |\n",
    "|dropout_2 (Dropout)          |(None, 100)               |0         |\n",
    "|dense_2 (Dense)              |(None, 50)                |5050      |\n",
    "|batch_normalization_4 (Batch |(None, 50)                |200       |\n",
    "|dropout_3 (Dropout)          |(None, 50)                |0         |\n",
    "|dense_3 (Dense)              |(None, 10)                |510       |\n",
    "|batch_normalization_5 (Batch |(None, 10)                |40        |\n",
    "|dense_4 (Dense)              |(None, 1)                 |11        |\n",
    "\n",
    "Total params: 982,663\n",
    "Trainable params: 982,241\n",
    "Non-trainable params: 422\n"
   ]
  },
  {
   "cell_type": "markdown",
   "metadata": {},
   "source": [
    "#### 3. Model parameter tuning\n",
    "\n",
    "*    The model used an adam optimizer, so the learning rate was not tuned manually.\n",
    "*    I kept the batch size 32\n",
    "*    correction factor= 0.2 for adjust left and right camera images\n",
    "     and ran the model for 12 epochs to make model.py but here just 5 epoch\n"
   ]
  },
  {
   "cell_type": "markdown",
   "metadata": {},
   "source": [
    "#### 4. Appropriate training data\n",
    "I collect my data with Udacity Simulator. I drove each track twice in one way and twice in opposite way. The usage of flip technik was not realy helpfull for me."
   ]
  },
  {
   "cell_type": "markdown",
   "metadata": {},
   "source": [
    "#### Summary\n",
    "\n",
    "To my understanding the way that data set is prepaired play a big role how it will work on autonomous mode. The amount of data set also play a role. As I had no cuda graphic card and the training is very time costly, I could not play more with all ideas which to make my model work better on the second track. By the way it acts quite good up to last slope! :)."
   ]
  },
  {
   "cell_type": "code",
   "execution_count": 1,
   "metadata": {},
   "outputs": [
    {
     "name": "stderr",
     "output_type": "stream",
     "text": [
      "Using TensorFlow backend.\n"
     ]
    }
   ],
   "source": [
    "# Import libraries\n",
    "\n",
    "from keras.models import Sequential, Model\n",
    "from keras.layers import Lambda, Cropping2D\n",
    "from keras.layers import Dense, Activation, Flatten, Dropout, BatchNormalization\n",
    "from keras.layers import Conv2D\n",
    "from keras.layers import MaxPooling2D\n",
    "\n",
    "import cv2\n",
    "import numpy as np\n",
    "import matplotlib.pyplot as plt\n",
    "\n",
    "import sklearn\n",
    "\n",
    "from sklearn.model_selection import train_test_split\n",
    "from sklearn.utils import shuffle\n",
    "\n",
    "import os\n",
    "import csv\n",
    "\n",
    "from PIL import Image\n",
    "\n",
    "import math"
   ]
  },
  {
   "cell_type": "code",
   "execution_count": 2,
   "metadata": {},
   "outputs": [],
   "source": [
    "# set the path\n",
    "def load_files(base_path, csv_name = \"driving_log.csv\", correction = 0.2, image_samples=[]):\n",
    "\n",
    "# set the paths of CSV file and where the Images files are    \n",
    "    csv_path= str(base_path) + str(csv_name)\n",
    "    image_Path = str(base_path) + \"IMG/\"\n",
    "    drop_prob = 0.8\n",
    "# open and read each line of CSV file in order to find the specific values for:\n",
    "# center line[0], left line[1] and right camera line[2]   \n",
    "    with open(csv_path) as csv_file:\n",
    "        reader = csv.reader(csv_file)\n",
    "        for line in reader:\n",
    "# read out where steering data is stored line[3]            \n",
    "            steering_angle = float(line[3])\n",
    "            for i in range(3):\n",
    "# put each path in file name and image file path             \n",
    "                image_file_name = get_file_field(line[i])\n",
    "                image_file_path = str(image_Path) + str(image_file_name)\n",
    "                \n",
    "# randomly droping steering zero with probability of 0.8 which means only 20 % of the time \n",
    "# images of car riding strait a head streeing zero is put in to data set\n",
    "                if steering_angle == 0 and np.random.rand() < drop_prob:\n",
    "                    continue \n",
    "# Initialinf the data with file path            \n",
    "                data = [image_file_path]\n",
    "# appending steering data with the correcction fo each side cameras to the data                \n",
    "                if i == 0:\n",
    "                    data.append(steering_angle) # center camera\n",
    "                if i == 1:\n",
    "                    data.append(steering_angle + correction) # left camera\n",
    "                if i == 2:\n",
    "                    data.append(steering_angle - correction) # right camera\n",
    "                    \n",
    "                image_samples.append(data)   \n",
    "    return image_samples"
   ]
  },
  {
   "cell_type": "code",
   "execution_count": 3,
   "metadata": {},
   "outputs": [],
   "source": [
    "# split the path and use the name only part\n",
    "def get_file_field(place_holder=\"\"):\n",
    "    \n",
    "    return place_holder.split('/')[-1]"
   ]
  },
  {
   "cell_type": "code",
   "execution_count": 4,
   "metadata": {},
   "outputs": [],
   "source": [
    "# using generator help out with memory shortage at raining later on\n",
    "# here we manage x_train and y_train data for the training\n",
    "def generator(samples, batch_size=32):\n",
    "    num_samples = len(samples)\n",
    "\n",
    "    while 1: # Loop forever so the generator never terminates\n",
    "        shuffle(samples)\n",
    "        for offset in range(0, num_samples, batch_size):\n",
    "            batch_samples = samples[offset:offset+batch_size]\n",
    "\n",
    "            images = []\n",
    "            angles = []\n",
    "            for batch_sample in batch_samples:\n",
    "# where the Images are actually are                \n",
    "                name = '/home/kayvan/Documents/Udacity/3_Asignment/Training_Files/IMG/'+batch_sample[0].split('/')[-1]\n",
    "# reading each image convert them for X input data and Y (labels)                  \n",
    "                center_image = cv2.imread(name)\n",
    "                center_image = cv2.cvtColor(center_image,cv2.COLOR_BGR2RGB)\n",
    "        \n",
    "                center_angle = float(batch_sample[1])\n",
    "                \n",
    "                images.append(center_image)\n",
    "                angles.append(center_angle)                \n",
    "# I used them once but the results was not so good but I kep them here to know later \n",
    "# how can I use some modification to increase data base on small recording dataset\n",
    "\n",
    "                #image_flipped = np.fliplr(center_image)\n",
    "                #center_angle_flipped = - center_angle\n",
    "                #images.append(image_flipped)\n",
    "                #angles.append(center_angle_flipped)\n",
    "\n",
    "            # trim image to only see section with road\n",
    "            X_train = np.array(images)\n",
    "            y_train = np.array(angles)\n",
    "            yield sklearn.utils.shuffle(X_train, y_train)"
   ]
  },
  {
   "cell_type": "code",
   "execution_count": 5,
   "metadata": {},
   "outputs": [],
   "source": [
    "# where all my samples are\n",
    "samples = load_files('/home/kayvan/Documents/Udacity/3_Asignment/Training_Files/')"
   ]
  },
  {
   "cell_type": "code",
   "execution_count": 6,
   "metadata": {},
   "outputs": [
    {
     "name": "stdout",
     "output_type": "stream",
     "text": [
      "Training Samples: 11782\n",
      "Validation Samples:  2946\n"
     ]
    }
   ],
   "source": [
    "# split the data to into train_samples, validation_samples\n",
    "train_samples, validation_samples = train_test_split(samples, test_size=0.2)\n",
    "print('Training Samples:', len(train_samples))\n",
    "print('Validation Samples: ', len(validation_samples))\n",
    "\n",
    "# compile and train the model using the generator function\n",
    "train_generator = generator(train_samples)\n",
    "validation_generator = generator(validation_samples)"
   ]
  },
  {
   "cell_type": "code",
   "execution_count": 7,
   "metadata": {},
   "outputs": [],
   "source": [
    "# Model NVIDIA\n",
    "\n",
    "def Nvidia_model(drop_rate=0.5, input_shape=(160, 320, 3)):\n",
    "    \n",
    "    model = Sequential()\n",
    "    model.add(Cropping2D(cropping=((50,20), (0,0)), input_shape=(160, 320, 3)))\n",
    "    model.add(Lambda(lambda x: (x / 127.5) - 1.))\n",
    "    model.add(BatchNormalization(axis=3))\n",
    "    model.add(Conv2D(24, (5, 5), activation='elu', strides=(2, 2)))\n",
    "    model.add(Conv2D(36, (5, 5), activation='elu', strides=(2, 2)))\n",
    "    model.add(Conv2D(48, (5, 5), activation='elu', strides=(2, 2)))\n",
    "    model.add(BatchNormalization(axis=3))\n",
    "    model.add(Conv2D(64, (3, 3), activation='elu', strides=(1, 1)))\n",
    "    model.add(Conv2D(64, (3, 3), activation='elu', strides=(1, 1)))\n",
    "    model.add(Dropout(drop_rate))\n",
    "    model.add(Flatten())\n",
    "    model.add(Dense(100, activation='elu'))\n",
    "    model.add(BatchNormalization())\n",
    "    model.add(Dropout(drop_rate))\n",
    "    model.add(Dense(50, activation='elu'))\n",
    "    model.add(BatchNormalization())\n",
    "    model.add(Dropout(drop_rate))    \n",
    "    model.add(Dense(10, activation='elu'))\n",
    "    model.add(BatchNormalization())\n",
    "    model.add(Dense(1))\n",
    "    model.compile(loss='mse', optimizer='adam')\n",
    "    model.summary()\n",
    "    return model"
   ]
  },
  {
   "cell_type": "code",
   "execution_count": 8,
   "metadata": {},
   "outputs": [
    {
     "name": "stdout",
     "output_type": "stream",
     "text": [
      "_________________________________________________________________\n",
      "Layer (type)                 Output Shape              Param #   \n",
      "=================================================================\n",
      "cropping2d_1 (Cropping2D)    (None, 90, 320, 3)        0         \n",
      "_________________________________________________________________\n",
      "lambda_1 (Lambda)            (None, 90, 320, 3)        0         \n",
      "_________________________________________________________________\n",
      "batch_normalization_1 (Batch (None, 90, 320, 3)        12        \n",
      "_________________________________________________________________\n",
      "conv2d_1 (Conv2D)            (None, 43, 158, 24)       1824      \n",
      "_________________________________________________________________\n",
      "conv2d_2 (Conv2D)            (None, 20, 77, 36)        21636     \n",
      "_________________________________________________________________\n",
      "conv2d_3 (Conv2D)            (None, 8, 37, 48)         43248     \n",
      "_________________________________________________________________\n",
      "batch_normalization_2 (Batch (None, 8, 37, 48)         192       \n",
      "_________________________________________________________________\n",
      "conv2d_4 (Conv2D)            (None, 6, 35, 64)         27712     \n",
      "_________________________________________________________________\n",
      "conv2d_5 (Conv2D)            (None, 4, 33, 64)         36928     \n",
      "_________________________________________________________________\n",
      "dropout_1 (Dropout)          (None, 4, 33, 64)         0         \n",
      "_________________________________________________________________\n",
      "flatten_1 (Flatten)          (None, 8448)              0         \n",
      "_________________________________________________________________\n",
      "dense_1 (Dense)              (None, 100)               844900    \n",
      "_________________________________________________________________\n",
      "batch_normalization_3 (Batch (None, 100)               400       \n",
      "_________________________________________________________________\n",
      "dropout_2 (Dropout)          (None, 100)               0         \n",
      "_________________________________________________________________\n",
      "dense_2 (Dense)              (None, 50)                5050      \n",
      "_________________________________________________________________\n",
      "batch_normalization_4 (Batch (None, 50)                200       \n",
      "_________________________________________________________________\n",
      "dropout_3 (Dropout)          (None, 50)                0         \n",
      "_________________________________________________________________\n",
      "dense_3 (Dense)              (None, 10)                510       \n",
      "_________________________________________________________________\n",
      "batch_normalization_5 (Batch (None, 10)                40        \n",
      "_________________________________________________________________\n",
      "dense_4 (Dense)              (None, 1)                 11        \n",
      "=================================================================\n",
      "Total params: 982,663\n",
      "Trainable params: 982,241\n",
      "Non-trainable params: 422\n",
      "_________________________________________________________________\n"
     ]
    }
   ],
   "source": [
    "# Add the model data and fitting\n",
    "model = Nvidia_model()"
   ]
  },
  {
   "cell_type": "code",
   "execution_count": 9,
   "metadata": {},
   "outputs": [
    {
     "name": "stdout",
     "output_type": "stream",
     "text": [
      "Epoch 1/5\n",
      "368/368 [==============================] - 377s 1s/step - loss: 0.3109 - val_loss: 0.1104\n",
      "Epoch 2/5\n",
      "368/368 [==============================] - 340s 925ms/step - loss: 0.1374 - val_loss: 0.0990\n",
      "Epoch 3/5\n",
      "368/368 [==============================] - 347s 944ms/step - loss: 0.1168 - val_loss: 0.0948\n",
      "Epoch 4/5\n",
      "368/368 [==============================] - 355s 965ms/step - loss: 0.1085 - val_loss: 0.0843\n",
      "Epoch 5/5\n",
      "368/368 [==============================] - 365s 993ms/step - loss: 0.1031 - val_loss: 0.0845\n"
     ]
    }
   ],
   "source": [
    "# Training \n",
    "# for the training I run with 15 epochs but here I'll go just 5 epochs to generate the plot later on\n",
    "\n",
    "batch_size = 32\n",
    "\n",
    "history_object = model.fit_generator(train_generator, \n",
    "            steps_per_epoch=int(len(train_samples)/batch_size), \n",
    "            validation_data=validation_generator, \n",
    "            validation_steps=int(len(validation_samples)/batch_size), \n",
    "            epochs=5, verbose=1)"
   ]
  },
  {
   "cell_type": "code",
   "execution_count": 10,
   "metadata": {},
   "outputs": [],
   "source": [
    "model.save('model_2_.h5')"
   ]
  },
  {
   "cell_type": "code",
   "execution_count": 11,
   "metadata": {},
   "outputs": [
    {
     "name": "stdout",
     "output_type": "stream",
     "text": [
      "dict_keys(['val_loss', 'loss'])\n"
     ]
    },
    {
     "data": {
      "image/png": "[encoded data removed]",
      "text/plain": [
       "<Figure size 432x288 with 1 Axes>"
      ]
     },
     "metadata": {
      "needs_background": "light"
     },
     "output_type": "display_data"
    }
   ],
   "source": [
    "### print the keys contained in the history object\n",
    "print(history_object.history.keys())\n",
    "\n",
    "### plot the training and validation loss for each epoch\n",
    "plt.plot(history_object.history['loss'])\n",
    "plt.plot(history_object.history['val_loss'])\n",
    "plt.title('model mean squared error loss')\n",
    "plt.ylabel('mean squared error loss')\n",
    "plt.xlabel('epoch')\n",
    "plt.legend(['training set', 'validation set'], loc='upper right')\n",
    "plt.show()"
   ]
  }
 ],
 "metadata": {
  "kernelspec": {
   "display_name": "Python 3",
   "language": "python",
   "name": "python3"
  },
  "language_info": {
   "codemirror_mode": {
    "name": "ipython",
    "version": 3
   },
   "file_extension": ".py",
   "mimetype": "text/x-python",
   "name": "python",
   "nbconvert_exporter": "python",
   "pygments_lexer": "ipython3",
   "version": "3.6.8"
  }
 },
 "nbformat": 4,
 "nbformat_minor": 2
}
